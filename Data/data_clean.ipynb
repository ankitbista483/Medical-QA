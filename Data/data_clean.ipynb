{
 "cells": [
  {
   "cell_type": "code",
   "execution_count": 1,
   "metadata": {},
   "outputs": [],
   "source": [
    "import pandas as pd\n",
    "import re"
   ]
  },
  {
   "cell_type": "code",
   "execution_count": 2,
   "metadata": {},
   "outputs": [
    {
     "data": {
      "text/html": [
       "<div>\n",
       "<style scoped>\n",
       "    .dataframe tbody tr th:only-of-type {\n",
       "        vertical-align: middle;\n",
       "    }\n",
       "\n",
       "    .dataframe tbody tr th {\n",
       "        vertical-align: top;\n",
       "    }\n",
       "\n",
       "    .dataframe thead th {\n",
       "        text-align: right;\n",
       "    }\n",
       "</style>\n",
       "<table border=\"1\" class=\"dataframe\">\n",
       "  <thead>\n",
       "    <tr style=\"text-align: right;\">\n",
       "      <th></th>\n",
       "      <th>Question</th>\n",
       "      <th>Answer</th>\n",
       "    </tr>\n",
       "  </thead>\n",
       "  <tbody>\n",
       "    <tr>\n",
       "      <th>0</th>\n",
       "      <td>What is (are) Non-Small Cell Lung Cancer ?</td>\n",
       "      <td>Key Points\\n                    - Non-small ce...</td>\n",
       "    </tr>\n",
       "    <tr>\n",
       "      <th>1</th>\n",
       "      <td>Who is at risk for Non-Small Cell Lung Cancer? ?</td>\n",
       "      <td>Smoking is the major risk factor for non-small...</td>\n",
       "    </tr>\n",
       "    <tr>\n",
       "      <th>2</th>\n",
       "      <td>What are the symptoms of Non-Small Cell Lung C...</td>\n",
       "      <td>Signs of non-small cell lung cancer include a ...</td>\n",
       "    </tr>\n",
       "    <tr>\n",
       "      <th>3</th>\n",
       "      <td>How to diagnose Non-Small Cell Lung Cancer ?</td>\n",
       "      <td>Tests that examine the lungs are used to detec...</td>\n",
       "    </tr>\n",
       "    <tr>\n",
       "      <th>4</th>\n",
       "      <td>What is the outlook for Non-Small Cell Lung Ca...</td>\n",
       "      <td>Certain factors affect prognosis (chance of re...</td>\n",
       "    </tr>\n",
       "  </tbody>\n",
       "</table>\n",
       "</div>"
      ],
      "text/plain": [
       "                                            Question  \\\n",
       "0         What is (are) Non-Small Cell Lung Cancer ?   \n",
       "1   Who is at risk for Non-Small Cell Lung Cancer? ?   \n",
       "2  What are the symptoms of Non-Small Cell Lung C...   \n",
       "3       How to diagnose Non-Small Cell Lung Cancer ?   \n",
       "4  What is the outlook for Non-Small Cell Lung Ca...   \n",
       "\n",
       "                                              Answer  \n",
       "0  Key Points\\n                    - Non-small ce...  \n",
       "1  Smoking is the major risk factor for non-small...  \n",
       "2  Signs of non-small cell lung cancer include a ...  \n",
       "3  Tests that examine the lungs are used to detec...  \n",
       "4  Certain factors affect prognosis (chance of re...  "
      ]
     },
     "execution_count": 2,
     "metadata": {},
     "output_type": "execute_result"
    }
   ],
   "source": [
    "df = pd.read_csv('/Users/ankitbista/Desktop/practice/MedQuAD/Medical-QA/data.csv')\n",
    "df.head(5)"
   ]
  },
  {
   "cell_type": "code",
   "execution_count": 3,
   "metadata": {},
   "outputs": [
    {
     "data": {
      "text/plain": [
       "\"Key Points\\n                    - Non-small cell lung cancer is a disease in which malignant (cancer) cells form in the tissues of the lung.     - There are several types of non-small cell lung cancer.    - Smoking is the major risk factor for non-small cell lung cancer.    - Signs of non-small cell lung cancer include a cough that doesn't go away and shortness of breath.    - Tests that examine the lungs are used to detect (find), diagnose, and stage non-small cell lung cancer.    - Certain factors affect prognosis (chance of recovery) and treatment options.    - For most patients with non-small cell lung cancer, current treatments do not cure the cancer.\\n                \\n                \\n                    Non-small cell lung cancer is a disease in which malignant (cancer) cells form in the tissues of the lung.\\n                    The lungs are a pair of cone-shaped breathing organs in the chest. The lungs bring oxygen into the body as you breathe in. They release carbon dioxide, a waste product of the bodys cells, as you breathe out. Each lung has sections called lobes. The left lung has two lobes. The right lung is slightly larger and has three lobes. Two tubes called bronchi lead from the trachea (windpipe) to the right and left lungs. The bronchi are sometimes also involved in lung cancer. Tiny air sacs called alveoli and small tubes called bronchioles make up the inside of the lungs.     A thin membrane called the pleura covers the outside of each lung and lines the inside wall of the chest cavity. This creates a sac called the pleural cavity. The pleural cavity normally contains a small amount of fluid that helps the lungs move smoothly in the chest when you breathe.    There are two main types of lung cancer: non-small cell lung cancer and small cell lung cancer.    See the following PDQ summaries for more information about lung cancer:         -  Small Cell Lung Cancer Treatment     -  Unusual Cancers of Childhood Treatment     -  Lung Cancer Prevention     -  Lung Cancer Screening\\n                \\n                \\n                    There are several types of non-small cell lung cancer.\\n                    Each type of non-small cell lung cancer has different kinds of cancer cells. The cancer cells of each type grow and spread in different ways. The types of non-small cell lung cancer are named for the kinds of cells found in the cancer and how the cells look under a microscope:         -  Squamous cell carcinoma: Cancer that begins in squamous cells, which are thin, flat cells that look like fish scales. This is also called epidermoid carcinoma.    -  Large cell carcinoma: Cancer that may begin in several types of large cells.    -  Adenocarcinoma: Cancer that begins in the cells that line the alveoli and make substances such as mucus.         Other less common types of non-small cell lung cancer are: pleomorphic, carcinoid tumor, salivary gland carcinoma, and unclassified carcinoma.\\n                \\n                \\n                    For most patients with non-small cell lung cancer, current treatments do not cure the cancer.\\n                    If lung cancer is found, taking part in one of the many clinical trials being done to improve treatment should be considered. Clinical trials are taking place in most parts of the country for patients with all stages of non-small cell lung cancer. Information about ongoing clinical trials is available from the NCI website.\""
      ]
     },
     "execution_count": 3,
     "metadata": {},
     "output_type": "execute_result"
    }
   ],
   "source": [
    "df['Answer'][0]"
   ]
  },
  {
   "cell_type": "code",
   "execution_count": 6,
   "metadata": {},
   "outputs": [],
   "source": [
    "def clean_text(text):\n",
    "    text = re.sub(r'-', ' ', text)\n",
    "    text = re.sub(r'\\n\\s+', '\\n', text)\n",
    "    text = re.sub(r'\\s+', ' ', text)\n",
    "    text = re.sub(r'Key Points', ' ',text,flags=re.IGNORECASE)\n",
    "    return text.strip()"
   ]
  },
  {
   "cell_type": "code",
   "execution_count": 9,
   "metadata": {},
   "outputs": [],
   "source": [
    "df['Answer'] = df['Answer'].apply(clean_text)\n",
    "df.to_csv('/Users/ankitbista/Desktop/practice/MedQuAD/Medical-QA/data.csv')"
   ]
  },
  {
   "cell_type": "code",
   "execution_count": null,
   "metadata": {},
   "outputs": [],
   "source": []
  }
 ],
 "metadata": {
  "kernelspec": {
   "display_name": "myenv",
   "language": "python",
   "name": "python3"
  },
  "language_info": {
   "codemirror_mode": {
    "name": "ipython",
    "version": 3
   },
   "file_extension": ".py",
   "mimetype": "text/x-python",
   "name": "python",
   "nbconvert_exporter": "python",
   "pygments_lexer": "ipython3",
   "version": "3.12.4"
  },
  "orig_nbformat": 4
 },
 "nbformat": 4,
 "nbformat_minor": 2
}
